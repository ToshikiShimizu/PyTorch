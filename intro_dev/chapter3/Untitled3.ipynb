{
  "nbformat": 4,
  "nbformat_minor": 0,
  "metadata": {
    "colab": {
      "name": "Untitled3.ipynb",
      "version": "0.3.2",
      "provenance": [],
      "collapsed_sections": [],
      "include_colab_link": true
    },
    "kernelspec": {
      "name": "python3",
      "display_name": "Python 3"
    }
  },
  "cells": [
    {
      "cell_type": "markdown",
      "metadata": {
        "id": "view-in-github",
        "colab_type": "text"
      },
      "source": [
        "<a href=\"https://colab.research.google.com/github/ToshikiShimizu/PyTorch/blob/master/intro_dev/chapter3/Untitled3.ipynb\" target=\"_parent\"><img src=\"https://colab.research.google.com/assets/colab-badge.svg\" alt=\"Open In Colab\"/></a>"
      ]
    },
    {
      "metadata": {
        "id": "UbS5So6oorgZ",
        "colab_type": "code",
        "colab": {
          "base_uri": "https://localhost:8080/",
          "height": 35
        },
        "outputId": "d22acce5-0e51-4362-969f-95f84e342751"
      },
      "cell_type": "code",
      "source": [
        "!pip install torch"
      ],
      "execution_count": 1,
      "outputs": [
        {
          "output_type": "stream",
          "text": [
            "Requirement already satisfied: torch in /usr/local/lib/python3.6/dist-packages (0.4.1)\n"
          ],
          "name": "stdout"
        }
      ]
    },
    {
      "metadata": {
        "id": "IGG-svHnow2B",
        "colab_type": "code",
        "colab": {}
      },
      "cell_type": "code",
      "source": [
        "import torch\n",
        "from torch import nn\n",
        "\n",
        "net = nn.Sequential(\n",
        "    nn.Linear(64,32),\n",
        "    nn.ReLU(),\n",
        "    nn.Linear(32,16),\n",
        "    nn.ReLU(),\n",
        "    nn.Linear(16,10)\n",
        "    \n",
        ")"
      ],
      "execution_count": 0,
      "outputs": []
    },
    {
      "metadata": {
        "id": "aIo-AXsfpCXm",
        "colab_type": "code",
        "colab": {}
      },
      "cell_type": "code",
      "source": [
        "from torch import optim\n",
        "from sklearn.datasets import load_digits\n",
        "digits = load_digits()\n",
        "\n",
        "X = digits.data\n",
        "Y = digits.target\n",
        "\n",
        "X = torch.tensor(X,dtype=torch.float32)\n",
        "Y = torch.tensor(Y,dtype=torch.int64)\n",
        "\n",
        "loss_fn = nn.CrossEntropyLoss()\n",
        "\n",
        "optimizer = optim.Adam(net.parameters())\n",
        "\n",
        "losses = []\n",
        "\n",
        "for epoc in range(500):\n",
        "  optimizer.zero_grad()\n",
        "  y_pred = net(X)\n",
        "  loss = loss_fn(y_pred, Y)\n",
        "  loss.backward()\n",
        "  optimizer.step()\n",
        "  losses.append(loss.item())\n",
        "  "
      ],
      "execution_count": 0,
      "outputs": []
    },
    {
      "metadata": {
        "id": "CwpxIPOwqVmM",
        "colab_type": "code",
        "colab": {}
      },
      "cell_type": "code",
      "source": [
        "from torch.utils.data import TensorDataset, DataLoader"
      ],
      "execution_count": 0,
      "outputs": []
    },
    {
      "metadata": {
        "id": "GpQNp_jlqyGy",
        "colab_type": "code",
        "colab": {}
      },
      "cell_type": "code",
      "source": [
        "ds = TensorDataset(X,Y)\n",
        "loader = DataLoader(ds, batch_size=64,shuffle=True)\n",
        "net = nn.Sequential(\n",
        "  nn.Linear(64,32),\n",
        "  nn.ReLU(),\n",
        "  nn.Linear(32,16),\n",
        "  nn.ReLU(),\n",
        "  nn.Linear(16,10)\n",
        ")\n",
        "\n",
        "loss_fn = nn.CrossEntropyLoss()\n",
        "optimizer = optim.Adam(net.parameters())\n",
        "\n",
        "losses = []\n",
        "for epoch in range(10):\n",
        "  running_loss = 0.0\n",
        "  for xx, yy in loader:\n",
        "    y_pred = net(xx)\n",
        "    loss = loss_fn(y_pred, yy)\n",
        "    optimizer.zero_grad()\n",
        "    loss.backward()\n",
        "    optimizer.step()\n",
        "    running_loss += loss.item()\n",
        "  losses.append(running_loss)"
      ],
      "execution_count": 0,
      "outputs": []
    },
    {
      "metadata": {
        "id": "EO23Bq27rxYe",
        "colab_type": "code",
        "colab": {
          "base_uri": "https://localhost:8080/",
          "height": 283
        },
        "outputId": "3ada6ebf-906e-44af-f8ef-2f8b3d70a874"
      },
      "cell_type": "code",
      "source": [
        "%matplotlib inline\n",
        "from matplotlib import pyplot as plt\n",
        "plt.plot(losses)"
      ],
      "execution_count": 15,
      "outputs": [
        {
          "output_type": "execute_result",
          "data": {
            "text/plain": [
              "[<matplotlib.lines.Line2D at 0x7fe518970b00>]"
            ]
          },
          "metadata": {
            "tags": []
          },
          "execution_count": 15
        },
        {
          "output_type": "display_data",
          "data": {
            "image/png": "[encoded data removed]",
            "text/plain": [
              "<matplotlib.figure.Figure at 0x7fe55d27cc18>"
            ]
          },
          "metadata": {
            "tags": []
          }
        }
      ]
    },
    {
      "metadata": {
        "id": "wpeIT49HwSDS",
        "colab_type": "code",
        "colab": {}
      },
      "cell_type": "code",
      "source": [
        "from sklearn.model_selection import train_test_split\n",
        "X = digits.data\n",
        "Y = digits.target\n",
        "X_train, X_test, Y_train, Y_test = train_test_split(X,Y,test_size = 0.3)\n",
        "X_train = torch.tensor(X_train, dtype=torch.float32)\n",
        "Y_train = torch.tensor(Y_train,dtype = torch.int64)\n",
        "X_test = torch.tensor(X_test, dtype=torch.float32)\n",
        "Y_test = torch.tensor(Y_test,dtype = torch.int64)\n"
      ],
      "execution_count": 0,
      "outputs": []
    },
    {
      "metadata": {
        "id": "ApmVYeODyyda",
        "colab_type": "code",
        "colab": {}
      },
      "cell_type": "code",
      "source": [
        "k = 100\n",
        "net = nn.Sequential(\n",
        "    nn.Linear(64,k),\n",
        "    nn.ReLU(),\n",
        "    nn.Linear(k,k),\n",
        "    nn.ReLU(),\n",
        "    nn.Linear(k,k),\n",
        "    nn.ReLU(),\n",
        "    nn.Linear(k,k),\n",
        "    nn.ReLU(),\n",
        "    nn.Linear(k,10)\n",
        ")\n",
        "\n",
        "loss_fn = nn.CrossEntropyLoss()\n",
        "optimizer = optim.Adam(net.parameters())\n",
        "ds = TensorDataset(X_train,Y_train)\n",
        "loader = DataLoader(ds, batch_size=32,shuffle=True)"
      ],
      "execution_count": 0,
      "outputs": []
    },
    {
      "metadata": {
        "id": "Yx6YAVePxeKJ",
        "colab_type": "code",
        "colab": {}
      },
      "cell_type": "code",
      "source": [
        "train_losses = []\n",
        "test_losses = []\n",
        "for epoch in range(100):\n",
        "  running_loss = 0.0\n",
        "  for i, (xx,yy) in enumerate(loader):\n",
        "    y_pred = net(xx)\n",
        "    loss = loss_fn(y_pred,yy)\n",
        "    optimizer.zero_grad()\n",
        "    loss.backward()\n",
        "    optimizer.step()\n",
        "    running_loss += loss.item()\n",
        "  train_losses.append(running_loss/i)\n",
        "  y_pred = net(X_test)\n",
        "  test_loss = loss_fn(y_pred, Y_test)\n",
        "  test_losses.append(test_loss.item())"
      ],
      "execution_count": 0,
      "outputs": []
    },
    {
      "metadata": {
        "id": "zkoRfqjUw2PX",
        "colab_type": "code",
        "colab": {}
      },
      "cell_type": "code",
      "source": [
        "k = 100\n",
        "net = nn.Sequential(\n",
        "    nn.Linear(64,k),\n",
        "    nn.ReLU(),\n",
        "    nn.Dropout(0.5),\n",
        "    nn.Linear(k,k),\n",
        "    nn.ReLU(),\n",
        "    nn.Dropout(0.5),\n",
        "    nn.Linear(k,k),\n",
        "    nn.ReLU(),\n",
        "    nn.Dropout(0.5),\n",
        "    nn.Linear(k,k),\n",
        "    nn.ReLU(),  \n",
        "    nn.Dropout(0.5),\n",
        "    nn.Linear(k,10)\n",
        ")\n",
        "\n",
        "loss_fn = nn.CrossEntropyLoss()\n",
        "optimizer = optim.Adam(net.parameters())\n",
        "ds = TensorDataset(X_train,Y_train)\n",
        "loader = DataLoader(ds, batch_size=32,shuffle=True)"
      ],
      "execution_count": 0,
      "outputs": []
    },
    {
      "metadata": {
        "id": "EiEakDX60SUt",
        "colab_type": "code",
        "colab": {}
      },
      "cell_type": "code",
      "source": [
        "k = 100\n",
        "net = nn.Sequential(\n",
        "    nn.Linear(64,k),\n",
        "    nn.ReLU(),\n",
        "    nn.BatchNorm1d(k),\n",
        "    nn.Linear(k,k),\n",
        "    nn.ReLU(),\n",
        "    nn.BatchNorm1d(k),\n",
        "    nn.Linear(k,k),\n",
        "    nn.ReLU(),\n",
        "    nn.BatchNorm1d(k),\n",
        "    nn.Linear(k,k),\n",
        "    nn.ReLU(),  \n",
        "    nn.BatchNorm1d(k),\n",
        "    nn.Linear(k,10)\n",
        ")\n",
        "\n",
        "loss_fn = nn.CrossEntropyLoss()\n",
        "optimizer = optim.Adam(net.parameters())\n",
        "ds = TensorDataset(X_train,Y_train)\n",
        "loader = DataLoader(ds, batch_size=32,shuffle=True)"
      ],
      "execution_count": 0,
      "outputs": []
    },
    {
      "metadata": {
        "id": "mXSk4rudzJaz",
        "colab_type": "code",
        "colab": {}
      },
      "cell_type": "code",
      "source": [
        "train_losses = []\n",
        "test_losses = []\n",
        "for epoch in range(100):\n",
        "  running_loss = 0.0\n",
        "  net.train()\n",
        "  for i, (xx,yy) in enumerate(loader):  \n",
        "    y_pred = net(xx)\n",
        "    loss = loss_fn(y_pred,yy)\n",
        "    optimizer.zero_grad()\n",
        "    loss.backward()\n",
        "    optimizer.step()\n",
        "    running_loss += loss.item()\n",
        "  train_losses.append(running_loss/i)\n",
        "  net.eval()\n",
        "  y_pred = net(X_test)\n",
        "  test_loss = loss_fn(y_pred, Y_test)\n",
        "  test_losses.append(test_loss.item())"
      ],
      "execution_count": 0,
      "outputs": []
    },
    {
      "metadata": {
        "id": "uNHJs7byyge7",
        "colab_type": "code",
        "colab": {
          "base_uri": "https://localhost:8080/",
          "height": 283
        },
        "outputId": "cc45a18d-d4ed-4f30-ddfb-b43c235b87d9"
      },
      "cell_type": "code",
      "source": [
        "plt.plot(test_losses)"
      ],
      "execution_count": 31,
      "outputs": [
        {
          "output_type": "execute_result",
          "data": {
            "text/plain": [
              "[<matplotlib.lines.Line2D at 0x7fe5188d5198>]"
            ]
          },
          "metadata": {
            "tags": []
          },
          "execution_count": 31
        },
        {
          "output_type": "display_data",
          "data": {
            "image/png": "[encoded data removed]",
            "text/plain": [
              "<matplotlib.figure.Figure at 0x7fe51893d7b8>"
            ]
          },
          "metadata": {
            "tags": []
          }
        }
      ]
    },
    {
      "metadata": {
        "id": "Obf7mLBv1kb7",
        "colab_type": "code",
        "colab": {}
      },
      "cell_type": "code",
      "source": [
        "class CustomLinear(nn.Module):\n",
        "  def __init__(self, in_features, out_features, bias = True, p=0.5):\n",
        "    super().__init__()\n",
        "    self.linear = nn.Linear(in_features, out_features, bias)\n",
        "    self.relu = nn.ReLU()\n",
        "    self.drop = nn.Dropout(p)\n",
        "    \n",
        "  def forward(self,x):\n",
        "    x = self.linear(x)\n",
        "    x = self.relu(x)\n",
        "    x = self.drop(x)\n",
        "    return x\n",
        "  \n",
        "mlp = nn.Sequential(\n",
        "CustomLinear(64,200),\n",
        "CustomLinear(200,200),\n",
        "CustomLinear(200,200),\n",
        "nn.Linear(200,10)\n",
        ")"
      ],
      "execution_count": 0,
      "outputs": []
    },
    {
      "metadata": {
        "id": "SsPqmll82fpB",
        "colab_type": "code",
        "colab": {}
      },
      "cell_type": "code",
      "source": [
        ""
      ],
      "execution_count": 0,
      "outputs": []
    },
    {
      "metadata": {
        "id": "BLNFpBHM2oll",
        "colab_type": "code",
        "colab": {}
      },
      "cell_type": "code",
      "source": [
        "k = 100\n",
        "net = mlp\n",
        "loss_fn = nn.CrossEntropyLoss()\n",
        "optimizer = optim.Adam(net.parameters())\n",
        "ds = TensorDataset(X_train,Y_train)\n",
        "loader = DataLoader(ds, batch_size=32,shuffle=True)\n",
        "train_losses = []\n",
        "test_losses = []\n",
        "for epoch in range(100):\n",
        "  running_loss = 0.0\n",
        "  net.train()\n",
        "  for i, (xx,yy) in enumerate(loader):  \n",
        "    y_pred = net(xx)\n",
        "    loss = loss_fn(y_pred,yy)\n",
        "    optimizer.zero_grad()\n",
        "    loss.backward()\n",
        "    optimizer.step()\n",
        "    running_loss += loss.item()\n",
        "  train_losses.append(running_loss/i)\n",
        "  net.eval()\n",
        "  y_pred = net(X_test)\n",
        "  test_loss = loss_fn(y_pred, Y_test)\n",
        "  test_losses.append(test_loss.item())"
      ],
      "execution_count": 0,
      "outputs": []
    },
    {
      "metadata": {
        "id": "qJ02G10h21fR",
        "colab_type": "code",
        "colab": {
          "base_uri": "https://localhost:8080/",
          "height": 283
        },
        "outputId": "09ab6b67-1b70-49a6-8e33-a26e109acd17"
      },
      "cell_type": "code",
      "source": [
        "plt.plot(test_losses)"
      ],
      "execution_count": 38,
      "outputs": [
        {
          "output_type": "execute_result",
          "data": {
            "text/plain": [
              "[<matplotlib.lines.Line2D at 0x7fe515182748>]"
            ]
          },
          "metadata": {
            "tags": []
          },
          "execution_count": 38
        },
        {
          "output_type": "display_data",
          "data": {
            "image/png": "[encoded data removed]",
            "text/plain": [
              "<matplotlib.figure.Figure at 0x7fe51514fdd8>"
            ]
          },
          "metadata": {
            "tags": []
          }
        }
      ]
    },
    {
      "metadata": {
        "id": "d9sUVD-v3C5-",
        "colab_type": "code",
        "colab": {}
      },
      "cell_type": "code",
      "source": [
        "class MyMLP(nn.Module):\n",
        "  def __init__(self,in_features, out_features):\n",
        "    super().__init__()\n",
        "    self.ln1 = CustomLinear(in_features,200)\n",
        "    self.ln2 = CustomLinear(200,200)\n",
        "    self.ln3 = CustomLinear(200,200)\n",
        "    self.ln4 = CustomLinear(200,out_features)\n",
        "  def forward(self,x):\n",
        "    x = self.ln1(x)\n",
        "    x = self.ln2(x)\n",
        "    x = self.ln3(x)\n",
        "    x = self.ln4(x)\n",
        "    return x\n",
        "mlp = MyMLP(64,10)"
      ],
      "execution_count": 0,
      "outputs": []
    },
    {
      "metadata": {
        "id": "0qA93VsE4bUf",
        "colab_type": "code",
        "colab": {}
      },
      "cell_type": "code",
      "source": [
        "k = 100\n",
        "net = mlp\n",
        "loss_fn = nn.CrossEntropyLoss()\n",
        "optimizer = optim.Adam(net.parameters())\n",
        "ds = TensorDataset(X_train,Y_train)\n",
        "loader = DataLoader(ds, batch_size=32,shuffle=True)\n",
        "train_losses = []\n",
        "test_losses = []\n",
        "for epoch in range(100):\n",
        "  running_loss = 0.0\n",
        "  net.train()\n",
        "  for i, (xx,yy) in enumerate(loader):  \n",
        "    y_pred = net(xx)\n",
        "    loss = loss_fn(y_pred,yy)\n",
        "    optimizer.zero_grad()\n",
        "    loss.backward()\n",
        "    optimizer.step()\n",
        "    running_loss += loss.item()\n",
        "  train_losses.append(running_loss/i)\n",
        "  net.eval()\n",
        "  y_pred = net(X_test)\n",
        "  test_loss = loss_fn(y_pred, Y_test)\n",
        "  test_losses.append(test_loss.item())"
      ],
      "execution_count": 0,
      "outputs": []
    },
    {
      "metadata": {
        "id": "YJ7gxjBq4gVk",
        "colab_type": "code",
        "colab": {}
      },
      "cell_type": "code",
      "source": [
        "plt.plot(test_losses)"
      ],
      "execution_count": 0,
      "outputs": []
    }
  ]
}